{
 "cells": [
  {
   "cell_type": "markdown",
   "metadata": {},
   "source": [
    "# DXC's AI Aid for Antibiotic Prescription"
   ]
  },
  {
   "cell_type": "markdown",
   "metadata": {},
   "source": [
    "## Importing Necessary Libraries"
   ]
  },
  {
   "cell_type": "code",
   "execution_count": 6,
   "metadata": {},
   "outputs": [],
   "source": [
    "import pandas as pd\n",
    "import numpy as np\n",
    "import matplotlib.pyplot as plt\n",
    "import seaborn as sns\n",
    "from sklearn.linear_model import LogisticRegression\n",
    "from sklearn.dummy import DummyClassifier\n",
    "from sklearn import model_selection, metrics\n",
    "import statsmodels.formula.api as smf\n",
    "from sklearn.preprocessing import StandardScaler\n",
    "from sklearn.neighbors import KNeighborsClassifier\n",
    "from sklearn.metrics import accuracy_score\n",
    "from sklearn.cluster import DBSCAN, KMeans\n",
    "from collections import Counter"
   ]
  },
  {
   "cell_type": "markdown",
   "metadata": {},
   "source": [
    "## Executive Summary"
   ]
  },
  {
   "cell_type": "markdown",
   "metadata": {},
   "source": [
    "#### Antibiotic resistance is one of the biggest threats to global health, food security, and development today. Deaths caused by drug-resistant bacterial infections will surpass 10 million per year by 2050. It does not help when 30-50% antibiotic prescriptions given today are inappropriate: either they are under prescribed or over prescribed. DXC is aiming to build an AI to recommend the right antibiotic with the correct dose and duration at the time of prescription itself."
   ]
  },
  {
   "cell_type": "markdown",
   "metadata": {},
   "source": [
    "## Problem Statement"
   ]
  },
  {
   "cell_type": "markdown",
   "metadata": {},
   "source": [
    "### What am i trying to find out?\n"
   ]
  },
  {
   "cell_type": "code",
   "execution_count": null,
   "metadata": {},
   "outputs": [],
   "source": []
  },
  {
   "cell_type": "markdown",
   "metadata": {},
   "source": [
    "### What is my dataset about?"
   ]
  },
  {
   "cell_type": "code",
   "execution_count": null,
   "metadata": {},
   "outputs": [],
   "source": []
  },
  {
   "cell_type": "markdown",
   "metadata": {},
   "source": [
    "## A data dictionary has been created for this data for better understanding of each variable below:"
   ]
  },
  {
   "cell_type": "markdown",
   "metadata": {},
   "source": [
    "| Column | Type | Description | Key |\n",
    "| --- | --- | --- | --- |\n",
    "| MRN | Float |  Patient's Unique ID | - \n",
    "| Patient Name |String | Patient's Full Name | -\n",
    "| Visit No | Float |  ???? | -\n",
    "| Date Of Birth | Date | Date Patient Was Born | -\n",
    "| Age at Start of Audit | Float | ??????? | -\n",
    "| Gender | String | Patient's Sex | -\n",
    "| Race | String | Patient's race (Chinese,Eurasian,Indian,Malay) | -\n",
    "| Institution | String | Patient's Hospital | -\n",
    "| Original Location | String | ????? |  -\n",
    "| Current Location | String | ?????? | -\n",
    "| Admission Date | Date | Date Patient got admitted | -\n",
    "| Discharge Date | Date | Date Patient got discharged | -\n",
    "| Primary Reason for Hospitalization | String | As stated by title | -\n",
    "| Audit Case No. | Float | Unique ID of audit Case | -\n",
    "| Department | String | ????????? | -\n",
    "| Care Provider | String | ????????? | -\n",
    "| ID on Board | String | ????????? | -\n",
    "| Referred to ID| String | ????????? | -\n",
    "| Date of ID Referral | Date | As stated by title | -\n",
    "| Referred to ID| String | ????????? | -\n",
    "| Recently Hospitalised| String | As stated by title | -\n",
    "| Recent use of antibiotic| String | As stated by title | -\n",
    "| ASPIntervention Case No| Float | ????????? | -\n",
    "| Carbapenems| String | ????????? | -\n",
    "| Audited Abx| String | ????????? | -\n",
    "| Dose| Float | As stated by title | -\n",
    "| UOM| String | Unit of Measurement | -\n",
    "| Frequency| String | ????????? | -\n",
    "| Top Up Dose| String | ????????? | -\n",
    "| Major Body System | String | ????????? | -\n",
    "| ID Condition | String | ????????? | -\n",
    "| CDSS Status | String | ????????? | -\n",
    "| CDSS Rejection Reason | String | As stated by title | -\n",
    "| Antibiotic Started on | Date | As stated by title | -\n",
    "| Antibiotic Stopped on| Date | As stated by title | -\n",
    "| Indication | String | ????????? | -\n",
    "| Type of Infection| String | As stated by title | -\n",
    "| Dialysis Type | String | ????????? | -\n",
    "| Allergy | String | As stated by title | -\n",
    "| Medical History | String | As stated by title | -\n",
    "| Immunocompromised | String | ????????? | -\n",
    "| Charlson Score | Float | ????????? | -\n",
    "| APACHE II Score Date | Date | ????????? | -\n",
    "| APACHE II Score | Float | ????????? | -\n",
    "| Initial Appropriateness | String | ????????? | -\n",
    "| Initial Reason for Inappropriateness | String | ?????? | -\n"
   ]
  },
  {
   "cell_type": "markdown",
   "metadata": {},
   "source": [
    "## Exploratory Data Analysis"
   ]
  },
  {
   "cell_type": "code",
   "execution_count": null,
   "metadata": {},
   "outputs": [],
   "source": []
  }
 ],
 "metadata": {
  "kernelspec": {
   "display_name": "Python 2",
   "language": "python",
   "name": "python2"
  },
  "language_info": {
   "codemirror_mode": {
    "name": "ipython",
    "version": 2
   },
   "file_extension": ".py",
   "mimetype": "text/x-python",
   "name": "python",
   "nbconvert_exporter": "python",
   "pygments_lexer": "ipython2",
   "version": "2.7.15"
  }
 },
 "nbformat": 4,
 "nbformat_minor": 2
}
